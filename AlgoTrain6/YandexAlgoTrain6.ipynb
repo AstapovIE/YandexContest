{
  "nbformat": 4,
  "nbformat_minor": 0,
  "metadata": {
    "colab": {
      "provenance": [],
      "collapsed_sections": [
        "nP7CTKOOxVyQ",
        "KBb6sGBIWAgh",
        "YvnERpxAY5Q-",
        "LFNHQTo-v5PI",
        "fs_FvWxTxjrY",
        "-PKPL5eGjaSN",
        "BD07XybkCP2y",
        "5qfQKYOPF38k",
        "2hrU_wQlYtno",
        "gYYAKzp8fMpW"
      ]
    },
    "kernelspec": {
      "name": "python3",
      "display_name": "Python 3"
    },
    "language_info": {
      "name": "python"
    }
  },
  "cells": [
    {
      "cell_type": "markdown",
      "source": [
        "# Занятие 1\n",
        "https://contest.yandex.ru/contest/66792"
      ],
      "metadata": {
        "id": "nP7CTKOOxVyQ"
      }
    },
    {
      "cell_type": "markdown",
      "source": [
        "## 1 Плот"
      ],
      "metadata": {
        "id": "KBb6sGBIWAgh"
      }
    },
    {
      "cell_type": "code",
      "source": [
        "def find_way(x1, y1, x2, y2, x, y):\n",
        "    ans = \"\"\n",
        "    if y > y2:\n",
        "        ans += \"N\"\n",
        "        if x <= x1:\n",
        "            ans += \"W\"\n",
        "            return ans\n",
        "        elif x >= x2:\n",
        "            ans += \"E\"\n",
        "            return ans\n",
        "        else:\n",
        "            return ans\n",
        "\n",
        "    if y < y1:\n",
        "        ans += \"S\"\n",
        "        if x <= x1:\n",
        "            ans += \"W\"\n",
        "            return ans\n",
        "        elif x >= x2:\n",
        "            ans += \"E\"\n",
        "            return ans\n",
        "        else:\n",
        "            return ans\n",
        "\n",
        "    else:\n",
        "        if x < x1:\n",
        "            ans += \"W\"\n",
        "            return ans\n",
        "        else:\n",
        "            ans += \"E\"\n",
        "            return ans\n",
        "\n"
      ],
      "metadata": {
        "id": "hOzwGLkfWRRz"
      },
      "execution_count": null,
      "outputs": []
    },
    {
      "cell_type": "code",
      "source": [
        "x1 = int(input())\n",
        "y1 = int(input())\n",
        "x2 = int(input())\n",
        "y2 = int(input())\n",
        "x = int(input())\n",
        "y = int(input())\n",
        "\n",
        "print(find_way(x1, y1, x2, y2, x, y))"
      ],
      "metadata": {
        "colab": {
          "base_uri": "https://localhost:8080/"
        },
        "id": "9cCxZNDpYawi",
        "outputId": "c710f801-ca2f-4656-ad0d-09317ff94beb"
      },
      "execution_count": null,
      "outputs": [
        {
          "output_type": "stream",
          "name": "stdout",
          "text": [
            "-1\n",
            "-2\n",
            "5\n",
            "3\n",
            "-4\n",
            "6\n",
            "NW\n"
          ]
        }
      ]
    },
    {
      "cell_type": "markdown",
      "source": [
        "## 2 Майки и носки"
      ],
      "metadata": {
        "id": "YvnERpxAY5Q-"
      }
    },
    {
      "cell_type": "code",
      "source": [
        "def m_and_n(a, b, c, d):\n",
        "    if a == 0 or c == 0:\n",
        "        if a == 0:\n",
        "            return 1, c+1\n",
        "        else:\n",
        "            return a+1, 1\n",
        "\n",
        "    if b == 0 or d == 0:\n",
        "        if b == 0:\n",
        "            return 1, d+1\n",
        "        else:\n",
        "            return b+1, 1\n",
        "\n",
        "    m = max(a,b) + 1\n",
        "    n = max(c,d) + 1\n",
        "\n",
        "    if m < n:\n",
        "        m2 = m\n",
        "        n2 = 1\n",
        "    else:\n",
        "        m2 = 1\n",
        "        n2 = n\n",
        "\n",
        "    m1 = min(a, b) + 1\n",
        "    n1 = min(c, d) + 1\n",
        "    if m1+n1 <= m2+n2 and (a<b and c<d or a>b and c>d):\n",
        "        return m1, n1\n",
        "    return m2, n2\n"
      ],
      "metadata": {
        "id": "fTK9yIixY6HF"
      },
      "execution_count": null,
      "outputs": []
    },
    {
      "cell_type": "code",
      "source": [
        "import numpy as np\n",
        "\n",
        "for _ in range(10):\n",
        "    a = np.random.randint(10)\n",
        "    b = np.random.randint(10)\n",
        "    c = np.random.randint(10)\n",
        "    d = np.random.randint(10)\n",
        "\n",
        "    print(a,c)\n",
        "    print(b,d)\n",
        "    print(\"ans\", m_and_n(a, b, c, d)[0], m_and_n(a, b, c, d)[1])\n",
        "    print(\"-----\")"
      ],
      "metadata": {
        "colab": {
          "base_uri": "https://localhost:8080/"
        },
        "id": "iujHk9-6Y6I4",
        "outputId": "ad9c5400-bda6-41dd-e56d-7e9bd74bbbe1"
      },
      "execution_count": null,
      "outputs": [
        {
          "output_type": "stream",
          "name": "stdout",
          "text": [
            "2 3\n",
            "9 3\n",
            "ans 1 4\n",
            "-----\n",
            "4 4\n",
            "9 1\n",
            "ans 1 5\n",
            "-----\n",
            "4 8\n",
            "2 2\n",
            "ans 3 3\n",
            "-----\n",
            "5 4\n",
            "5 3\n",
            "ans 1 5\n",
            "-----\n",
            "2 1\n",
            "5 7\n",
            "ans 3 2\n",
            "-----\n",
            "8 8\n",
            "4 5\n",
            "ans 1 9\n",
            "-----\n",
            "8 2\n",
            "9 3\n",
            "ans 1 4\n",
            "-----\n",
            "6 8\n",
            "0 9\n",
            "ans 1 10\n",
            "-----\n",
            "2 7\n",
            "1 3\n",
            "ans 3 1\n",
            "-----\n",
            "0 1\n",
            "8 1\n",
            "ans 1 2\n",
            "-----\n"
          ]
        }
      ]
    },
    {
      "cell_type": "code",
      "source": [
        "print(\"ans\", m_and_n(6, 2, 0, 4))"
      ],
      "metadata": {
        "colab": {
          "base_uri": "https://localhost:8080/"
        },
        "id": "YsUMP9MzY6Kn",
        "outputId": "4a6c9b9d-d264-4910-d15a-9f7a56180a0d"
      },
      "execution_count": null,
      "outputs": [
        {
          "output_type": "stream",
          "name": "stdout",
          "text": [
            "ans (7, 1)\n"
          ]
        }
      ]
    },
    {
      "cell_type": "markdown",
      "source": [
        "## 3 Надпись на табло"
      ],
      "metadata": {
        "id": "LFNHQTo-v5PI"
      }
    },
    {
      "cell_type": "code",
      "source": [
        "# chet len'"
      ],
      "metadata": {
        "id": "kYxxVYg0v-q9"
      },
      "execution_count": null,
      "outputs": []
    },
    {
      "cell_type": "markdown",
      "source": [
        "# Занятие 2 Префиксы и Два указателя\n",
        "https://contest.yandex.ru/contest/66793"
      ],
      "metadata": {
        "id": "g018cgtexet8"
      }
    },
    {
      "cell_type": "markdown",
      "source": [
        "## 1"
      ],
      "metadata": {
        "id": "fs_FvWxTxjrY"
      }
    },
    {
      "cell_type": "code",
      "source": [
        "n = int(input())\n",
        "a = list(map(int, input().split()))\n",
        "\n",
        "b = [0]*(n+1)\n",
        "for i in range(n):\n",
        "    b[i+1] = a[i] + b[i]\n",
        "    print(b[i+1], end=\" \")\n",
        "\n"
      ],
      "metadata": {
        "id": "SuxiUP6AxfJe",
        "colab": {
          "base_uri": "https://localhost:8080/"
        },
        "outputId": "29b9ca10-45bd-452d-f8e4-64bc1ed44b4c"
      },
      "execution_count": null,
      "outputs": [
        {
          "output_type": "stream",
          "name": "stdout",
          "text": [
            "5\n",
            "10 -4 5 0 2\n",
            "10 6 11 11 13 "
          ]
        }
      ]
    },
    {
      "cell_type": "markdown",
      "source": [
        "## 2"
      ],
      "metadata": {
        "id": "-PKPL5eGjaSN"
      }
    },
    {
      "cell_type": "code",
      "source": [
        "n, k = list(map(int, input().split()))\n",
        "cars = list(map(int, input().split()))\n",
        "\n",
        "# with open(\"test.txt\", \"r\") as f:\n",
        "#     n, k = list(map(int, f.readline().split()))\n",
        "#     cars = list(map(int, f.readline().split()))\n",
        "\n",
        "R = 0\n",
        "count = 0\n",
        "sum = 0\n",
        "for L in range(n):\n",
        "    while R < n and sum < k:\n",
        "        sum += cars[R]\n",
        "        R += 1\n",
        "\n",
        "    if sum == k:\n",
        "        count += 1\n",
        "    sum -= cars[L]\n",
        "\n",
        "print(count)"
      ],
      "metadata": {
        "colab": {
          "base_uri": "https://localhost:8080/"
        },
        "id": "oPmv3qbGjcGM",
        "outputId": "2dcfc9ba-b360-40d5-decf-eb50a5902280"
      },
      "execution_count": null,
      "outputs": [
        {
          "output_type": "stream",
          "name": "stdout",
          "text": [
            "5 10\n",
            "1 2 3 4 10\n",
            "2\n"
          ]
        }
      ]
    },
    {
      "cell_type": "markdown",
      "source": [
        "## 3"
      ],
      "metadata": {
        "id": "BD07XybkCP2y"
      }
    },
    {
      "cell_type": "code",
      "source": [
        "# n, r = list(map(int, input().split()))\n",
        "# d = list(map(int, input().split()))\n",
        "\n",
        "with open(\"test.txt\", \"r\") as f:\n",
        "    n, r = list(map(int, f.readline().split()))\n",
        "    d = list(map(int, f.readline().split()))\n",
        "\n",
        "R = 0\n",
        "count = 0\n",
        "for L in range(n):\n",
        "    while R < n and d[R] - d[L] <= r:\n",
        "        R += 1\n",
        "    count += n - R\n",
        "\n",
        "print(count)"
      ],
      "metadata": {
        "colab": {
          "base_uri": "https://localhost:8080/"
        },
        "id": "QCbD7_WWB33H",
        "outputId": "d3a140c7-b0c8-47aa-c7a7-74c76fbe6fb1"
      },
      "execution_count": null,
      "outputs": [
        {
          "output_type": "stream",
          "name": "stdout",
          "text": [
            "4\n"
          ]
        }
      ]
    },
    {
      "cell_type": "markdown",
      "source": [
        "## 4"
      ],
      "metadata": {
        "id": "5qfQKYOPF38k"
      }
    },
    {
      "cell_type": "code",
      "source": [
        "# n, k = list(map(int, input().split()))\n",
        "# a = list(map(int, input().split()))\n",
        "\n",
        "with open(\"test.txt\", \"r\") as f:\n",
        "    n, k = list(map(int, f.readline().split()))\n",
        "    a = list(map(int, f.readline().split()))\n",
        "\n",
        "a.sort()\n",
        "best = 0\n",
        "\n",
        "R = 0\n",
        "for L in range(n):\n",
        "    while R < n and a[R] - a[L] <= k:\n",
        "        R += 1\n",
        "    best = max(best, R-L)\n",
        "\n",
        "print(best)"
      ],
      "metadata": {
        "colab": {
          "base_uri": "https://localhost:8080/"
        },
        "id": "svz98CebD1eZ",
        "outputId": "59a08839-19eb-4407-cb24-47340bddeb3d"
      },
      "execution_count": null,
      "outputs": [
        {
          "output_type": "stream",
          "name": "stdout",
          "text": [
            "2\n"
          ]
        }
      ]
    },
    {
      "cell_type": "markdown",
      "source": [
        "## 5"
      ],
      "metadata": {
        "id": "2hrU_wQlYtno"
      }
    },
    {
      "cell_type": "code",
      "source": [
        "# n = int(input())\n",
        "# a = list(map(int, input().split()))\n",
        "\n",
        "with open(\"test.txt\", \"r\") as f:\n",
        "    n = int(f.readline())\n",
        "    a = list(map(int, f.readline().split()))\n",
        "\n",
        "a.sort()\n",
        "\n",
        "\n",
        "if n%2 == 0:\n",
        "    L = n//2 - 1\n",
        "    R = n//2\n",
        "else:\n",
        "    L = n//2\n",
        "    print(a[L], end=\" \")\n",
        "    L = n//2 - 1\n",
        "    R = n//2 + 1\n",
        "\n",
        "for _ in range(n//2):\n",
        "    print(a[L], a[R], end=\" \")\n",
        "    L -= 1\n",
        "    R += 1"
      ],
      "metadata": {
        "colab": {
          "base_uri": "https://localhost:8080/"
        },
        "id": "08yMR4M3ZuGZ",
        "outputId": "4f48049a-3578-4886-88e5-7b5aafb78ab3"
      },
      "execution_count": null,
      "outputs": [
        {
          "output_type": "stream",
          "name": "stdout",
          "text": [
            "8 3 19 "
          ]
        }
      ]
    },
    {
      "cell_type": "markdown",
      "source": [
        "## 6"
      ],
      "metadata": {
        "id": "gYYAKzp8fMpW"
      }
    },
    {
      "cell_type": "code",
      "source": [
        "# n = int(input())\n",
        "# a = list(map(int, input().split()))\n",
        "\n",
        "with open(\"test.txt\", \"r\") as f:\n",
        "    n = int(f.readline())\n",
        "    a = list(map(int, f.readline().split()))\n",
        "\n",
        "b = [0]*(n+1)\n",
        "for i in range(n):\n",
        "    b[i+1] = a[i] + b[i]\n",
        "\n",
        "\n",
        "sum = 0\n",
        "for j in range(1, n-1):\n",
        "    sum_i = (b[j] - b[0])\n",
        "    sum_k = (b[n] - b[j+1])\n",
        "\n",
        "    sum += a[j] * sum_i * sum_k\n",
        "    if sum >= 1000000007:\n",
        "        sum = sum % 1000000007\n",
        "\n",
        "print(sum)"
      ],
      "metadata": {
        "colab": {
          "base_uri": "https://localhost:8080/"
        },
        "id": "x_ydadeoeuLc",
        "outputId": "2ea86ad1-d98c-42a6-e084-cbeefe7ebc75"
      },
      "execution_count": null,
      "outputs": [
        {
          "output_type": "stream",
          "name": "stdout",
          "text": [
            "6\n"
          ]
        }
      ]
    },
    {
      "cell_type": "markdown",
      "source": [
        "## 7"
      ],
      "metadata": {
        "id": "e5rUkBBjq8D7"
      }
    },
    {
      "cell_type": "code",
      "source": [
        "# n, c = list(map(int, input().split()))\n",
        "# s = input()\n",
        "\n",
        "with open(\"test.txt\", \"r\") as f:\n",
        "    n, c = list(map(int, f.readline().split()))\n",
        "    s = f.readline()\n",
        "\n",
        "best = 0\n",
        "\n",
        "ab = [0, 0]\n",
        "flag = 0 #  start with  0: a  1: b\n",
        "\n",
        "R = 0\n",
        "G = 0\n",
        "for L in range(n):\n",
        "    while R < n and G <= c:\n",
        "        # print(L, R, ab, G, best)\n",
        "        if s[R] == \"a\":\n",
        "            ab[0] += 1\n",
        "        if s[R] == \"b\":\n",
        "            ab[1] += 1\n",
        "            G += ab[0]\n",
        "\n",
        "        if G > c:\n",
        "            best = max(best, R-L-1)\n",
        "        else:\n",
        "            best = max(best, R-L+1)\n",
        "\n",
        "        R += 1\n",
        "\n",
        "\n",
        "\n",
        "    if s[L] == \"a\":\n",
        "        ab[0] -= 1\n",
        "        G -= ab[1]\n",
        "    if s[L] == \"b\":\n",
        "        ab[1] -= 1\n",
        "\n",
        "\n",
        "\n",
        "print(best)"
      ],
      "metadata": {
        "colab": {
          "base_uri": "https://localhost:8080/"
        },
        "id": "KiWbVWBChD9F",
        "outputId": "b9258452-938d-41d9-9602-3c5001b2e828"
      },
      "execution_count": null,
      "outputs": [
        {
          "output_type": "stream",
          "name": "stdout",
          "text": [
            "4\n"
          ]
        }
      ]
    },
    {
      "cell_type": "markdown",
      "source": [
        "# Занятие 3 Стеки Очереди Деки\n",
        "https://contest.yandex.ru/contest/66794"
      ],
      "metadata": {
        "id": "hek5d2Rtm5ro"
      }
    },
    {
      "cell_type": "markdown",
      "source": [
        "## 1 ПСП"
      ],
      "metadata": {
        "id": "Bv79StyVnA4b"
      }
    },
    {
      "cell_type": "code",
      "source": [
        "# string = input()\n",
        "\n",
        "with open(\"test.txt\", \"r\") as f:\n",
        "    string = f.readline()\n",
        "    string = string[:-1]\n",
        "\n",
        "\n",
        "def is_psp(string):\n",
        "    stack = list()\n",
        "    for s in string:\n",
        "        if s == \"(\" or s == \"[\" or s == \"{\":\n",
        "            stack.append(s)\n",
        "        else:\n",
        "            if len(stack) == 0:\n",
        "                return \"no\"\n",
        "                break\n",
        "            if s == \")\":\n",
        "                if stack[-1] == \"(\":\n",
        "                    stack.pop()\n",
        "                else:\n",
        "                    return \"no\"\n",
        "            if s == \"]\":\n",
        "                if stack[-1] == \"[\":\n",
        "                    stack.pop()\n",
        "                else:\n",
        "                    return \"no\"\n",
        "            if s == \"}\":\n",
        "                if stack[-1] == \"{\":\n",
        "                    stack.pop()\n",
        "                else:\n",
        "                    return \"no\"\n",
        "    if len(stack) != 0:\n",
        "        return \"no\"\n",
        "    return \"yes\"\n",
        "\n",
        "print(is_psp(string))\n"
      ],
      "metadata": {
        "id": "oAPJevIW02yA",
        "colab": {
          "base_uri": "https://localhost:8080/"
        },
        "outputId": "17dfc365-9e3e-4f46-c53f-3eccd24396dc"
      },
      "execution_count": null,
      "outputs": [
        {
          "output_type": "stream",
          "name": "stdout",
          "text": [
            "yes\n"
          ]
        }
      ]
    },
    {
      "cell_type": "markdown",
      "source": [
        "## 2"
      ],
      "metadata": {
        "id": "cN89XE7TnDMK"
      }
    },
    {
      "cell_type": "code",
      "source": [
        "# n = int(input())\n",
        "# a = list(map(int, input().split()))\n",
        "\n",
        "with open(\"test.txt\", \"r\") as f:\n",
        "    n = int(f.readline())\n",
        "    a = list(map(int, f.readline().split()))\n",
        "\n",
        "\n",
        "cost = list()\n",
        "idxs = list()\n",
        "\n",
        "ans = [-1]*n\n",
        "\n",
        "for i in range(n):\n",
        "    while len(cost) != 0 and cost[-1] > a[i]:\n",
        "        ans[idxs[-1]] = i\n",
        "        cost.pop()\n",
        "        idxs.pop()\n",
        "\n",
        "    cost.append(a[i])\n",
        "    idxs.append(i)\n",
        "\n",
        "print(*ans)\n"
      ],
      "metadata": {
        "colab": {
          "base_uri": "https://localhost:8080/"
        },
        "id": "N8PWMPq7nDSi",
        "outputId": "4dcf37d1-b57c-45b9-a043-c15e02438d44"
      },
      "execution_count": null,
      "outputs": [
        {
          "output_type": "stream",
          "name": "stdout",
          "text": [
            "-1 4 3 4 -1 6 9 8 9 -1\n"
          ]
        }
      ]
    },
    {
      "cell_type": "markdown",
      "source": [
        "## 3 Минимум на отрезке"
      ],
      "metadata": {
        "id": "pgXld6S4uEtP"
      }
    },
    {
      "cell_type": "code",
      "source": [
        "# n, k = list(map(int, input().split()))\n",
        "# a = list(map(int, input().split()))\n",
        "\n",
        "with open(\"test.txt\", \"r\") as f:\n",
        "    n, k = list(map(int, f.readline().split()))\n",
        "    a = list(map(int, f.readline().split()))\n",
        "\n",
        "deque = list()\n",
        "for i in range(n):\n",
        "    if i >= k and a[i-k] == deque[0]:\n",
        "        deque.pop(0)\n",
        "\n",
        "    while len(deque) and deque[-1] >= a[i]:\n",
        "        deque.pop()\n",
        "    deque.append(a[i])\n",
        "\n",
        "    # print(deque)\n",
        "    if i >= k - 1:\n",
        "        print(deque[0])\n"
      ],
      "metadata": {
        "colab": {
          "base_uri": "https://localhost:8080/"
        },
        "id": "pI49ERlwuFjo",
        "outputId": "da1fd6c6-9882-40d1-d3cf-7cffd092672f"
      },
      "execution_count": null,
      "outputs": [
        {
          "output_type": "stream",
          "name": "stdout",
          "text": [
            "2\n",
            "2\n",
            "2\n",
            "2\n",
            "2\n"
          ]
        }
      ]
    },
    {
      "cell_type": "markdown",
      "source": [
        "## 4 Постфиксная запись"
      ],
      "metadata": {
        "id": "GwL0SMI2xnZo"
      }
    },
    {
      "cell_type": "code",
      "source": [
        "string = input().split()\n",
        "\n",
        "# with open(\"test.txt\", \"r\") as f:\n",
        "#     string = f.readline().split()\n",
        "#     # string = string[:-1]\n",
        "# print(string)\n",
        "\n",
        "stack = list()\n",
        "op = [\"+\", \"-\", \"*\"]\n",
        "\n",
        "for s in string:\n",
        "    if s not in op:\n",
        "        stack.append(int(s))\n",
        "    else:\n",
        "        if s == \"+\":\n",
        "            a = stack[-1]\n",
        "            stack.pop()\n",
        "            b = stack[-1]\n",
        "            stack.pop()\n",
        "            stack.append(b+a)\n",
        "        if s == \"-\":\n",
        "            a = stack[-1]\n",
        "            stack.pop()\n",
        "            b = stack[-1]\n",
        "            stack.pop()\n",
        "            stack.append(b-a)\n",
        "        if s == \"*\":\n",
        "            a = stack[-1]\n",
        "            stack.pop()\n",
        "            b = stack[-1]\n",
        "            stack.pop()\n",
        "            stack.append(b*a)\n",
        "\n",
        "\n",
        "print(stack[0])\n"
      ],
      "metadata": {
        "id": "nBoUENeBxn31",
        "colab": {
          "base_uri": "https://localhost:8080/"
        },
        "outputId": "19029899-8ad2-49aa-db80-f0e4b9d8c51e"
      },
      "execution_count": null,
      "outputs": [
        {
          "output_type": "stream",
          "name": "stdout",
          "text": [
            "8 9 + 1 7 - *\n",
            "-102\n"
          ]
        }
      ]
    },
    {
      "cell_type": "markdown",
      "source": [
        "## 7 Очередь в ПВЗ*"
      ],
      "metadata": {
        "id": "ewXWQR_tDTkk"
      }
    },
    {
      "cell_type": "code",
      "source": [
        "# n, b = list(map(int, input().split()))\n",
        "# a = list(map(int, input().split()))\n",
        "\n",
        "with open(\"test.txt\", \"r\") as f:\n",
        "    n, b = list(map(int, f.readline().split()))\n",
        "    a = list(map(int, f.readline().split()))\n",
        "\n",
        "count = 0\n",
        "ans = 0\n",
        "\n",
        "for num in a:\n",
        "    count += num\n",
        "    if count >= b:\n",
        "        ans += count\n",
        "        count -= b\n",
        "    else:\n",
        "        ans += count\n",
        "        count = 0\n",
        "\n",
        "ans += count\n",
        "print(ans)\n"
      ],
      "metadata": {
        "colab": {
          "base_uri": "https://localhost:8080/"
        },
        "id": "9dG4oZgSCSXL",
        "outputId": "81a3471a-1661-4f1a-a86d-60c3c8dc47c9"
      },
      "execution_count": null,
      "outputs": [
        {
          "output_type": "stream",
          "name": "stdout",
          "text": [
            "7\n"
          ]
        }
      ]
    },
    {
      "cell_type": "markdown",
      "source": [
        "## 8 Стек с суммой*"
      ],
      "metadata": {
        "id": "1fMIlM7aIKjB"
      }
    },
    {
      "cell_type": "code",
      "source": [
        "n = int(input())\n",
        "# n = int(f.readline())\n",
        "\n",
        "\n",
        "prefs = [0]\n",
        "stack = []\n",
        "\n",
        "for i in range(n):\n",
        "    string = str(input())\n",
        "    # print(string)\n",
        "    op = string[0]\n",
        "\n",
        "    if op == \"+\":\n",
        "        a = int(string[1:])\n",
        "        stack.append(a)\n",
        "        prefs.append(a + prefs[-1])\n",
        "    if op == \"?\":\n",
        "        k = int(string[1:])\n",
        "        m = len(prefs) - 1\n",
        "        print(\"k sum:\", prefs[m] - prefs[m-k])\n",
        "    if op == \"-\":\n",
        "        print(\"del:\", stack[-1])\n",
        "        stack.pop()\n",
        "        prefs.pop()\n",
        "    print(stack, prefs)\n",
        "\n",
        "\n"
      ],
      "metadata": {
        "colab": {
          "base_uri": "https://localhost:8080/"
        },
        "id": "flMBXSZaHRG5",
        "outputId": "195c8cd8-12ba-42b0-808f-90c576e239ee"
      },
      "execution_count": 12,
      "outputs": [
        {
          "output_type": "stream",
          "name": "stdout",
          "text": [
            "7\n",
            "+1\n",
            "[1] [0, 1]\n",
            "+2\n",
            "[1, 2] [0, 1, 3]\n",
            "+3\n",
            "[1, 2, 3] [0, 1, 3, 6]\n",
            "?2\n",
            "k sum: 5\n",
            "[1, 2, 3] [0, 1, 3, 6]\n",
            "-\n",
            "del: 3\n",
            "[1, 2] [0, 1, 3]\n",
            "-\n",
            "del: 2\n",
            "[1] [0, 1]\n",
            "?1\n",
            "k sum: 1\n",
            "[1] [0, 1]\n"
          ]
        }
      ]
    },
    {
      "cell_type": "markdown",
      "source": [
        "## 10 Кровать из стульев*"
      ],
      "metadata": {
        "id": "ozJ_-IxtR8rR"
      }
    },
    {
      "cell_type": "code",
      "source": [
        "# n, H = list(map(int, input().split()))\n",
        "# h = list(map(int, input().split()))\n",
        "# w = list(map(int, input().split()))\n",
        "\n",
        "with open(\"test.txt\", \"r\") as f:\n",
        "    n, H = list(map(int, f.readline().split()))\n",
        "    h = list(map(int, f.readline().split()))\n",
        "    w = list(map(int, f.readline().split()))\n",
        "\n",
        "zipped = zip(h,w)\n",
        "zipped_sorted = sorted(zipped, key=lambda tup: tup[0])\n",
        "hs = [x[0] for x in zipped_sorted]\n",
        "ws = [x[1] for x in zipped_sorted]\n",
        "\n",
        "\n",
        "import collections\n",
        "\n",
        "def find_G(hs, ws, n, H):\n",
        "    def deq_app(x):\n",
        "        while len(deq) > 0 and deq[-1] < x:\n",
        "            deq.pop()\n",
        "        deq.append(x)\n",
        "\n",
        "    def deq_del(x):\n",
        "        if x == deq[0]:\n",
        "            deq.popleft()\n",
        "\n",
        "    deq = collections.deque()\n",
        "    best = hs[-1] - hs[0]\n",
        "\n",
        "    L = 0\n",
        "    R = 1\n",
        "    W = ws[0] # текущая суммарная ширина стульев\n",
        "    if ws[-1] >= H:\n",
        "        return 0\n",
        "\n",
        "    while L < n-1:\n",
        "        while R < n and W < H:\n",
        "            W += ws[R]\n",
        "            deq_app(hs[R]-hs[R-1])\n",
        "            R += 1\n",
        "        if W >= H:\n",
        "            best = min(best, deq[0])\n",
        "        W -= ws[L]\n",
        "        deq_del(hs[L+1] - hs[L])\n",
        "\n",
        "        L += 1\n",
        "    return best\n",
        "\n",
        "print(find_G(hs, ws, n, H))"
      ],
      "metadata": {
        "id": "hc1KtfgIK3Fv",
        "colab": {
          "base_uri": "https://localhost:8080/"
        },
        "outputId": "77e2a4b1-6f70-47e7-f3df-0f96c0c46674"
      },
      "execution_count": 46,
      "outputs": [
        {
          "output_type": "stream",
          "name": "stdout",
          "text": [
            "1\n"
          ]
        }
      ]
    },
    {
      "cell_type": "markdown",
      "source": [
        "# Занятие 4"
      ],
      "metadata": {
        "id": "tK8ulfRAvgDx"
      }
    },
    {
      "cell_type": "code",
      "source": [],
      "metadata": {
        "id": "EOnHhFhFTqLc"
      },
      "execution_count": 31,
      "outputs": []
    }
  ]
}