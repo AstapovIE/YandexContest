{
  "nbformat": 4,
  "nbformat_minor": 0,
  "metadata": {
    "colab": {
      "provenance": [],
      "collapsed_sections": [
        "nP7CTKOOxVyQ",
        "KBb6sGBIWAgh",
        "YvnERpxAY5Q-",
        "LFNHQTo-v5PI",
        "fs_FvWxTxjrY",
        "-PKPL5eGjaSN",
        "BD07XybkCP2y",
        "5qfQKYOPF38k",
        "2hrU_wQlYtno",
        "gYYAKzp8fMpW"
      ]
    },
    "kernelspec": {
      "name": "python3",
      "display_name": "Python 3"
    },
    "language_info": {
      "name": "python"
    }
  },
  "cells": [
    {
      "cell_type": "markdown",
      "source": [
        "# Занятие 1"
      ],
      "metadata": {
        "id": "nP7CTKOOxVyQ"
      }
    },
    {
      "cell_type": "markdown",
      "source": [
        "## 1 Плот"
      ],
      "metadata": {
        "id": "KBb6sGBIWAgh"
      }
    },
    {
      "cell_type": "code",
      "source": [
        "def find_way(x1, y1, x2, y2, x, y):\n",
        "    ans = \"\"\n",
        "    if y > y2:\n",
        "        ans += \"N\"\n",
        "        if x <= x1:\n",
        "            ans += \"W\"\n",
        "            return ans\n",
        "        elif x >= x2:\n",
        "            ans += \"E\"\n",
        "            return ans\n",
        "        else:\n",
        "            return ans\n",
        "\n",
        "    if y < y1:\n",
        "        ans += \"S\"\n",
        "        if x <= x1:\n",
        "            ans += \"W\"\n",
        "            return ans\n",
        "        elif x >= x2:\n",
        "            ans += \"E\"\n",
        "            return ans\n",
        "        else:\n",
        "            return ans\n",
        "\n",
        "    else:\n",
        "        if x < x1:\n",
        "            ans += \"W\"\n",
        "            return ans\n",
        "        else:\n",
        "            ans += \"E\"\n",
        "            return ans\n",
        "\n"
      ],
      "metadata": {
        "id": "hOzwGLkfWRRz"
      },
      "execution_count": null,
      "outputs": []
    },
    {
      "cell_type": "code",
      "source": [
        "x1 = int(input())\n",
        "y1 = int(input())\n",
        "x2 = int(input())\n",
        "y2 = int(input())\n",
        "x = int(input())\n",
        "y = int(input())\n",
        "\n",
        "print(find_way(x1, y1, x2, y2, x, y))"
      ],
      "metadata": {
        "colab": {
          "base_uri": "https://localhost:8080/"
        },
        "id": "9cCxZNDpYawi",
        "outputId": "c710f801-ca2f-4656-ad0d-09317ff94beb"
      },
      "execution_count": null,
      "outputs": [
        {
          "output_type": "stream",
          "name": "stdout",
          "text": [
            "-1\n",
            "-2\n",
            "5\n",
            "3\n",
            "-4\n",
            "6\n",
            "NW\n"
          ]
        }
      ]
    },
    {
      "cell_type": "markdown",
      "source": [
        "## 2 Майки и носки"
      ],
      "metadata": {
        "id": "YvnERpxAY5Q-"
      }
    },
    {
      "cell_type": "code",
      "source": [
        "def m_and_n(a, b, c, d):\n",
        "    if a == 0 or c == 0:\n",
        "        if a == 0:\n",
        "            return 1, c+1\n",
        "        else:\n",
        "            return a+1, 1\n",
        "\n",
        "    if b == 0 or d == 0:\n",
        "        if b == 0:\n",
        "            return 1, d+1\n",
        "        else:\n",
        "            return b+1, 1\n",
        "\n",
        "    m = max(a,b) + 1\n",
        "    n = max(c,d) + 1\n",
        "\n",
        "    if m < n:\n",
        "        m2 = m\n",
        "        n2 = 1\n",
        "    else:\n",
        "        m2 = 1\n",
        "        n2 = n\n",
        "\n",
        "    m1 = min(a, b) + 1\n",
        "    n1 = min(c, d) + 1\n",
        "    if m1+n1 <= m2+n2 and (a<b and c<d or a>b and c>d):\n",
        "        return m1, n1\n",
        "    return m2, n2\n"
      ],
      "metadata": {
        "id": "fTK9yIixY6HF"
      },
      "execution_count": null,
      "outputs": []
    },
    {
      "cell_type": "code",
      "source": [
        "import numpy as np\n",
        "\n",
        "for _ in range(10):\n",
        "    a = np.random.randint(10)\n",
        "    b = np.random.randint(10)\n",
        "    c = np.random.randint(10)\n",
        "    d = np.random.randint(10)\n",
        "\n",
        "    print(a,c)\n",
        "    print(b,d)\n",
        "    print(\"ans\", m_and_n(a, b, c, d)[0], m_and_n(a, b, c, d)[1])\n",
        "    print(\"-----\")"
      ],
      "metadata": {
        "colab": {
          "base_uri": "https://localhost:8080/"
        },
        "id": "iujHk9-6Y6I4",
        "outputId": "ad9c5400-bda6-41dd-e56d-7e9bd74bbbe1"
      },
      "execution_count": null,
      "outputs": [
        {
          "output_type": "stream",
          "name": "stdout",
          "text": [
            "2 3\n",
            "9 3\n",
            "ans 1 4\n",
            "-----\n",
            "4 4\n",
            "9 1\n",
            "ans 1 5\n",
            "-----\n",
            "4 8\n",
            "2 2\n",
            "ans 3 3\n",
            "-----\n",
            "5 4\n",
            "5 3\n",
            "ans 1 5\n",
            "-----\n",
            "2 1\n",
            "5 7\n",
            "ans 3 2\n",
            "-----\n",
            "8 8\n",
            "4 5\n",
            "ans 1 9\n",
            "-----\n",
            "8 2\n",
            "9 3\n",
            "ans 1 4\n",
            "-----\n",
            "6 8\n",
            "0 9\n",
            "ans 1 10\n",
            "-----\n",
            "2 7\n",
            "1 3\n",
            "ans 3 1\n",
            "-----\n",
            "0 1\n",
            "8 1\n",
            "ans 1 2\n",
            "-----\n"
          ]
        }
      ]
    },
    {
      "cell_type": "code",
      "source": [
        "print(\"ans\", m_and_n(6, 2, 0, 4))"
      ],
      "metadata": {
        "colab": {
          "base_uri": "https://localhost:8080/"
        },
        "id": "YsUMP9MzY6Kn",
        "outputId": "4a6c9b9d-d264-4910-d15a-9f7a56180a0d"
      },
      "execution_count": null,
      "outputs": [
        {
          "output_type": "stream",
          "name": "stdout",
          "text": [
            "ans (7, 1)\n"
          ]
        }
      ]
    },
    {
      "cell_type": "markdown",
      "source": [
        "## 3 Надпись на табло"
      ],
      "metadata": {
        "id": "LFNHQTo-v5PI"
      }
    },
    {
      "cell_type": "code",
      "source": [
        "# chet len'"
      ],
      "metadata": {
        "id": "kYxxVYg0v-q9"
      },
      "execution_count": null,
      "outputs": []
    },
    {
      "cell_type": "markdown",
      "source": [
        "# Занятие 2 Префиксы и Два указателя"
      ],
      "metadata": {
        "id": "g018cgtexet8"
      }
    },
    {
      "cell_type": "markdown",
      "source": [
        "## 1"
      ],
      "metadata": {
        "id": "fs_FvWxTxjrY"
      }
    },
    {
      "cell_type": "code",
      "source": [
        "n = int(input())\n",
        "a = list(map(int, input().split()))\n",
        "\n",
        "b = [0]*(n+1)\n",
        "for i in range(n):\n",
        "    b[i+1] = a[i] + b[i]\n",
        "    print(b[i+1], end=\" \")\n",
        "\n"
      ],
      "metadata": {
        "id": "SuxiUP6AxfJe",
        "colab": {
          "base_uri": "https://localhost:8080/"
        },
        "outputId": "29b9ca10-45bd-452d-f8e4-64bc1ed44b4c"
      },
      "execution_count": null,
      "outputs": [
        {
          "output_type": "stream",
          "name": "stdout",
          "text": [
            "5\n",
            "10 -4 5 0 2\n",
            "10 6 11 11 13 "
          ]
        }
      ]
    },
    {
      "cell_type": "markdown",
      "source": [
        "## 2"
      ],
      "metadata": {
        "id": "-PKPL5eGjaSN"
      }
    },
    {
      "cell_type": "code",
      "source": [
        "n, k = list(map(int, input().split()))\n",
        "cars = list(map(int, input().split()))\n",
        "\n",
        "# with open(\"test.txt\", \"r\") as f:\n",
        "#     n, k = list(map(int, f.readline().split()))\n",
        "#     cars = list(map(int, f.readline().split()))\n",
        "\n",
        "R = 0\n",
        "count = 0\n",
        "sum = 0\n",
        "for L in range(n):\n",
        "    while R < n and sum < k:\n",
        "        sum += cars[R]\n",
        "        R += 1\n",
        "\n",
        "    if sum == k:\n",
        "        count += 1\n",
        "    sum -= cars[L]\n",
        "\n",
        "print(count)"
      ],
      "metadata": {
        "colab": {
          "base_uri": "https://localhost:8080/"
        },
        "id": "oPmv3qbGjcGM",
        "outputId": "2dcfc9ba-b360-40d5-decf-eb50a5902280"
      },
      "execution_count": null,
      "outputs": [
        {
          "output_type": "stream",
          "name": "stdout",
          "text": [
            "5 10\n",
            "1 2 3 4 10\n",
            "2\n"
          ]
        }
      ]
    },
    {
      "cell_type": "markdown",
      "source": [
        "## 3"
      ],
      "metadata": {
        "id": "BD07XybkCP2y"
      }
    },
    {
      "cell_type": "code",
      "source": [
        "# n, r = list(map(int, input().split()))\n",
        "# d = list(map(int, input().split()))\n",
        "\n",
        "with open(\"test.txt\", \"r\") as f:\n",
        "    n, r = list(map(int, f.readline().split()))\n",
        "    d = list(map(int, f.readline().split()))\n",
        "\n",
        "R = 0\n",
        "count = 0\n",
        "for L in range(n):\n",
        "    while R < n and d[R] - d[L] <= r:\n",
        "        R += 1\n",
        "    count += n - R\n",
        "\n",
        "print(count)"
      ],
      "metadata": {
        "colab": {
          "base_uri": "https://localhost:8080/"
        },
        "id": "QCbD7_WWB33H",
        "outputId": "d3a140c7-b0c8-47aa-c7a7-74c76fbe6fb1"
      },
      "execution_count": null,
      "outputs": [
        {
          "output_type": "stream",
          "name": "stdout",
          "text": [
            "4\n"
          ]
        }
      ]
    },
    {
      "cell_type": "markdown",
      "source": [
        "## 4"
      ],
      "metadata": {
        "id": "5qfQKYOPF38k"
      }
    },
    {
      "cell_type": "code",
      "source": [
        "# n, k = list(map(int, input().split()))\n",
        "# a = list(map(int, input().split()))\n",
        "\n",
        "with open(\"test.txt\", \"r\") as f:\n",
        "    n, k = list(map(int, f.readline().split()))\n",
        "    a = list(map(int, f.readline().split()))\n",
        "\n",
        "a.sort()\n",
        "best = 0\n",
        "\n",
        "R = 0\n",
        "for L in range(n):\n",
        "    while R < n and a[R] - a[L] <= k:\n",
        "        R += 1\n",
        "    best = max(best, R-L)\n",
        "\n",
        "print(best)"
      ],
      "metadata": {
        "colab": {
          "base_uri": "https://localhost:8080/"
        },
        "id": "svz98CebD1eZ",
        "outputId": "59a08839-19eb-4407-cb24-47340bddeb3d"
      },
      "execution_count": null,
      "outputs": [
        {
          "output_type": "stream",
          "name": "stdout",
          "text": [
            "2\n"
          ]
        }
      ]
    },
    {
      "cell_type": "markdown",
      "source": [
        "## 5"
      ],
      "metadata": {
        "id": "2hrU_wQlYtno"
      }
    },
    {
      "cell_type": "code",
      "source": [
        "# n = int(input())\n",
        "# a = list(map(int, input().split()))\n",
        "\n",
        "with open(\"test.txt\", \"r\") as f:\n",
        "    n = int(f.readline())\n",
        "    a = list(map(int, f.readline().split()))\n",
        "\n",
        "a.sort()\n",
        "\n",
        "\n",
        "if n%2 == 0:\n",
        "    L = n//2 - 1\n",
        "    R = n//2\n",
        "else:\n",
        "    L = n//2\n",
        "    print(a[L], end=\" \")\n",
        "    L = n//2 - 1\n",
        "    R = n//2 + 1\n",
        "\n",
        "for _ in range(n//2):\n",
        "    print(a[L], a[R], end=\" \")\n",
        "    L -= 1\n",
        "    R += 1"
      ],
      "metadata": {
        "colab": {
          "base_uri": "https://localhost:8080/"
        },
        "id": "08yMR4M3ZuGZ",
        "outputId": "4f48049a-3578-4886-88e5-7b5aafb78ab3"
      },
      "execution_count": null,
      "outputs": [
        {
          "output_type": "stream",
          "name": "stdout",
          "text": [
            "8 3 19 "
          ]
        }
      ]
    },
    {
      "cell_type": "markdown",
      "source": [
        "## 6"
      ],
      "metadata": {
        "id": "gYYAKzp8fMpW"
      }
    },
    {
      "cell_type": "code",
      "source": [
        "# n = int(input())\n",
        "# a = list(map(int, input().split()))\n",
        "\n",
        "with open(\"test.txt\", \"r\") as f:\n",
        "    n = int(f.readline())\n",
        "    a = list(map(int, f.readline().split()))\n",
        "\n",
        "b = [0]*(n+1)\n",
        "for i in range(n):\n",
        "    b[i+1] = a[i] + b[i]\n",
        "\n",
        "\n",
        "sum = 0\n",
        "for j in range(1, n-1):\n",
        "    sum_i = (b[j] - b[0])\n",
        "    sum_k = (b[n] - b[j+1])\n",
        "\n",
        "    sum += a[j] * sum_i * sum_k\n",
        "    if sum >= 1000000007:\n",
        "        sum = sum % 1000000007\n",
        "\n",
        "print(sum)"
      ],
      "metadata": {
        "colab": {
          "base_uri": "https://localhost:8080/"
        },
        "id": "x_ydadeoeuLc",
        "outputId": "2ea86ad1-d98c-42a6-e084-cbeefe7ebc75"
      },
      "execution_count": null,
      "outputs": [
        {
          "output_type": "stream",
          "name": "stdout",
          "text": [
            "6\n"
          ]
        }
      ]
    },
    {
      "cell_type": "markdown",
      "source": [
        "## 7"
      ],
      "metadata": {
        "id": "e5rUkBBjq8D7"
      }
    },
    {
      "cell_type": "code",
      "source": [
        "# n, c = list(map(int, input().split()))\n",
        "# s = input()\n",
        "\n",
        "with open(\"test.txt\", \"r\") as f:\n",
        "    n, c = list(map(int, f.readline().split()))\n",
        "    s = f.readline()\n",
        "\n",
        "best = 0\n",
        "\n",
        "ab = [0, 0]\n",
        "flag = 0 #  start with  0: a  1: b\n",
        "\n",
        "R = 0\n",
        "G = 0\n",
        "for L in range(n):\n",
        "    while R < n and G <= c:\n",
        "        # print(L, R, ab, G, best)\n",
        "        if s[R] == \"a\":\n",
        "            ab[0] += 1\n",
        "        if s[R] == \"b\":\n",
        "            ab[1] += 1\n",
        "            G += ab[0]\n",
        "\n",
        "        if G > c:\n",
        "            best = max(best, R-L-1)\n",
        "        else:\n",
        "            best = max(best, R-L+1)\n",
        "\n",
        "        R += 1\n",
        "\n",
        "\n",
        "\n",
        "    if s[L] == \"a\":\n",
        "        ab[0] -= 1\n",
        "        G -= ab[1]\n",
        "    if s[L] == \"b\":\n",
        "        ab[1] -= 1\n",
        "\n",
        "\n",
        "\n",
        "print(best)"
      ],
      "metadata": {
        "colab": {
          "base_uri": "https://localhost:8080/"
        },
        "id": "KiWbVWBChD9F",
        "outputId": "b9258452-938d-41d9-9602-3c5001b2e828"
      },
      "execution_count": null,
      "outputs": [
        {
          "output_type": "stream",
          "name": "stdout",
          "text": [
            "4\n"
          ]
        }
      ]
    },
    {
      "cell_type": "code",
      "source": [],
      "metadata": {
        "id": "oAPJevIW02yA"
      },
      "execution_count": null,
      "outputs": []
    }
  ]
}